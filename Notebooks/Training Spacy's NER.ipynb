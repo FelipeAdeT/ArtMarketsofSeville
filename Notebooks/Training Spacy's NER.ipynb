{
 "cells": [
  {
   "cell_type": "markdown",
   "metadata": {},
   "source": [
    "# Training Spacy's Named Entity Recognizer (NER)\n",
    "\n",
    "In this document, we train Spacy's medium Spanish NER model on our own documents to improve results for Early Modern texts, with the possibility of adding new labels. "
   ]
  },
  {
   "cell_type": "markdown",
   "metadata": {},
   "source": [
    "## Why train?\n",
    "\n",
    "Spacy's statistical models are trained on different corpora, often specific genres like news or Wikipedia articles.  The structures of these genres may not map onto those of historical texts. Historical archival texts display differences with modern text in spelling and grammatical structure. They are also relatively standardized, meaning that training on your own data can improve accuracy for existing tags. We can also train the model to recognize new tags.\n",
    "\n",
    "An alternative to improving an existent model is to train your own from scratch, but this necessitates much larger amounts of data. Whereas Spacy recommends a few hundred to a few thousand examples for updating an existing model, you might need up to a million to train a new one. \n",
    "\n",
    "# Necessary Inputs\n",
    "\n",
    "To train a preexisting model, we need the model you want to work with and a corpus of tagged texts that will be divided into training and test data. \n",
    "\n",
    "### A Pretrained Spacy Model\n",
    "\n",
    "First, we load the model that we are interested in using, here the [Spanish medium-sized model](https://spacy.io/models/es). "
   ]
  },
  {
   "cell_type": "code",
   "execution_count": 1,
   "metadata": {},
   "outputs": [],
   "source": [
    "#We import modules to be used in this session\n",
    "\n",
    "#For training\n",
    "from __future__ import unicode_literals, print_function\n",
    "\n",
    "import plac\n",
    "import random\n",
    "from pathlib import Path\n",
    "\n",
    "import spacy\n",
    "from spacy.util import minibatch, compounding\n",
    "from spacy.lang.es import Spanish \n",
    "from spacy import displacy\n",
    "\n",
    "from sklearn.model_selection import train_test_split\n",
    "\n",
    "#For evaluation\n",
    "from spacy.scorer import Scorer\n",
    "from spacy.language import GoldParse\n",
    "\n",
    "import json"
   ]
  },
  {
   "cell_type": "code",
   "execution_count": 2,
   "metadata": {},
   "outputs": [],
   "source": [
    "#We load the Spacy Model to be trained\n",
    "\n",
    "nlp = spacy.load('es_core_news_md')"
   ]
  },
  {
   "cell_type": "markdown",
   "metadata": {},
   "source": [
    "To illustrate how the model performs out-of-the-box, we upload a short text, process it with the Spanish model (resulting in a 'doc' object) and view the Named Entity Recognition results."
   ]
  },
  {
   "cell_type": "code",
   "execution_count": 3,
   "metadata": {},
   "outputs": [
    {
     "data": {
      "text/html": [
       "<div class=\"entities\" style=\"line-height: 2.5; direction: ltr\">\n",
       "<mark class=\"entity\" style=\"background: #ddd; padding: 0.45em 0.6em; margin: 0 0.25em; line-height: 1; border-radius: 0.35em;\">\n",
       "    antonio de alfian\n",
       "    <span style=\"font-size: 0.8em; font-weight: bold; line-height: 1; border-radius: 0.35em; text-transform: uppercase; vertical-align: middle; margin-left: 0.5rem\">PER</span>\n",
       "</mark>\n",
       " pintor vezino de esta cibdad de seuilla en \n",
       "<mark class=\"entity\" style=\"background: #ddd; padding: 0.45em 0.6em; margin: 0 0.25em; line-height: 1; border-radius: 0.35em;\">\n",
       "    la collacion de la madalena otorgo\n",
       "    <span style=\"font-size: 0.8em; font-weight: bold; line-height: 1; border-radius: 0.35em; text-transform: uppercase; vertical-align: middle; margin-left: 0.5rem\">MISC</span>\n",
       "</mark>\n",
       " e conozco que doy todo mi poder a \n",
       "<mark class=\"entity\" style=\"background: #ddd; padding: 0.45em 0.6em; margin: 0 0.25em; line-height: 1; border-radius: 0.35em;\">\n",
       "    francisco de arfian\n",
       "    <span style=\"font-size: 0.8em; font-weight: bold; line-height: 1; border-radius: 0.35em; text-transform: uppercase; vertical-align: middle; margin-left: 0.5rem\">PER</span>\n",
       "</mark>\n",
       " mi hijo especialmente para que por mi pueda pedir de \n",
       "<mark class=\"entity\" style=\"background: #ddd; padding: 0.45em 0.6em; margin: 0 0.25em; line-height: 1; border-radius: 0.35em;\">\n",
       "    alonso de la milla clerigo mayordomo\n",
       "    <span style=\"font-size: 0.8em; font-weight: bold; line-height: 1; border-radius: 0.35em; text-transform: uppercase; vertical-align: middle; margin-left: 0.5rem\">PER</span>\n",
       "</mark>\n",
       " de la fabrica de la \n",
       "<mark class=\"entity\" style=\"background: #ff9561; padding: 0.45em 0.6em; margin: 0 0.25em; line-height: 1; border-radius: 0.35em;\">\n",
       "    iglesia de santa maria de la villa de carmona\n",
       "    <span style=\"font-size: 0.8em; font-weight: bold; line-height: 1; border-radius: 0.35em; text-transform: uppercase; vertical-align: middle; margin-left: 0.5rem\">LOC</span>\n",
       "</mark>\n",
       " sesenta e cinco ducados que me a de pagar por virtud de un mandamiento del señor provisor</div>"
      ],
      "text/plain": [
       "<IPython.core.display.HTML object>"
      ]
     },
     "metadata": {},
     "output_type": "display_data"
    }
   ],
   "source": [
    "#Process a single text.\n",
    "\n",
    "doc1=nlp(\"antonio de alfian pintor vezino de esta cibdad de seuilla en la collacion de la madalena otorgo e conozco que doy todo mi poder a francisco de arfian mi hijo especialmente para que por mi pueda pedir de alonso de la milla clerigo mayordomo de la fabrica de la iglesia de santa maria de la villa de carmona sesenta e cinco ducados que me a de pagar por virtud de un mandamiento del señor provisor\")\n",
    "\n",
    "#View out-of-the-box NLP results with displacy\n",
    "\n",
    "displacy.render(doc1, style=\"ent\", jupyter=True)\n"
   ]
  },
  {
   "cell_type": "code",
   "execution_count": 4,
   "metadata": {},
   "outputs": [
    {
     "name": "stdout",
     "output_type": "stream",
     "text": [
      "Entities in 'antonio de alfian pintor vezino de esta cibdad de seuilla en la collacion de la madalena otorgo e conozco que doy todo mi poder a francisco de arfian mi hijo especialmente para que por mi pueda pedir de alonso de la milla clerigo mayordomo de la fabrica de la iglesia de santa maria de la villa de carmona sesenta e cinco ducados que me a de pagar por virtud de un mandamiento del señor provisor'\n",
      "PER antonio de alfian\n",
      "MISC la collacion de la madalena otorgo\n",
      "PER francisco de arfian\n",
      "PER alonso de la milla clerigo mayordomo\n",
      "LOC iglesia de santa maria de la villa de carmona\n"
     ]
    }
   ],
   "source": [
    "#Alternatively, we can create a list of entities with labels:\n",
    "print(\"Entities in '%s'\" % doc1)\n",
    "for ent in doc1.ents:\n",
    "    print(ent.label_, ent.text)"
   ]
  },
  {
   "cell_type": "markdown",
   "metadata": {},
   "source": [
    "As we can see, the model already does some good work, but there are several mistakes. The third PER (person) tag  picks up the name of the individual, but also some irrelevant titles. The LOC tag picks up a church within a city, which we would prefer to have as an ORG, and it missed the twelfth token, the city of Seville (seuilla) as an entity. We would thus like to improve the accuracy of these preexisting tags.\n",
    "\n",
    "Additionally, there are new tags we would like to add to the preexisting model. For instance, in this text there is a monetary quantity (sesenta e cinco ducados) that we would like the model to identify. The Spacy medium Spanish model includes tags for PER (person), LOC (location), ORG (organization) and MISC (miscellaneous) entities. We will add MON (monetary), DATE and OBJ (object) tags.\n",
    "\n",
    "### Training and Test Data\n",
    "\n",
    "Training necessitates annotated data for the training of the model itself and later evaluation. For NER, this means a set of texts with correctly labeled entities. This is largely a manual process, made easier by softwares designed for data tagging. [Prodigy](https://prodi.gy) is Spacy's own software, but open-access alternatives are also available ([Dataturks](http://dataturks.com), [Brat](http://brat.nlplab.org), [Tagtog](http://tagtog.net)). \n",
    "\n",
    "The correct tagging of data requires some thought, as the edges of entities are often unclear. We used a few guiding criteria. We asked: if this were the model's output, would we be happy with the result? We made entities as short as possible, and tagged related entities separately (their relationships to be modeled after). Tags could not overlap (taking special care in Dataturks, because their automated selection of similar words, though helpful overall, often causes this issue). \n",
    "\n",
    "We have used [Dataturks](https://dataturks.com) for elaborating our own training data (downloadable here). It is open-source and results in a format easily importable into Spacy. To speed the tagging process, we first ran the Spacy model on our untagged texts, generating a prior annotated version (with many errors) that we uploaded onto Dataturks (instructions [here](https://github.com/FelipeAdeT/ArtMarketsofSeville/blob/master/Notebooks/Preparing%20a%20Text%20File%20for%20DataTurks.ipynb)). We then edited the tags on that website and exported the file. Dataturks produces a file in a slightly different format than Spacy, but they provide a function for converting between formats (we have done this in a different notebook, available [here](https://github.com/FelipeAdeT/ArtMarketsofSeville/blob/master/Notebooks/Converting%20Dataturks%20Tagged%20Texts%20to%20Spacy%20Format.ipynb))."
   ]
  },
  {
   "cell_type": "code",
   "execution_count": 3,
   "metadata": {},
   "outputs": [],
   "source": [
    "# Read Tagged Data from JSON file\n",
    "with open('TaggedData_SF.json', 'r', encoding='utf-8') as fp2:\n",
    "    TAGGED_DATA = json.load(fp2)"
   ]
  },
  {
   "cell_type": "markdown",
   "metadata": {},
   "source": [
    " First, we can more formally measure how well the model was performing without any re-training.\n",
    "\n",
    "# Evaluating Out-of-the-Box Results\n",
    "\n",
    "Spacy has a built-in function for evaluating a model's performance using the [command line](https://spacy.io/api/cli#evaluate), but alternatively you can define a function like the one below. It takes the NER model and examples that you input and returns several metrics:\n",
    "        - UAS (Unlabelled Attachment Score) \n",
    "        - LAS (Labelled Attachment Score)\n",
    "        - ents_p\n",
    "        - ents_r\n",
    "        - ents_f\n",
    "        - tags_acc\n",
    "        - token_acc\n",
    "\n",
    "[According](https://github.com/explosion/spaCy/issues/2405) to one of the creators of Spacy, \n",
    ">The UAS and LAS are standard metrics to evaluate dependency parsing. UAS is the proportion of tokens whose head has been correctly assigned, LAS is the proportion of tokens whose head has been correctly assigned with the right dependency label (subject, object, etc).\n",
    ">ents_p, ents_r, ents_f are the precision, recall and fscore for the NER task.\n",
    ">tags_acc is the POS tagging accuracy.\n",
    ">token_acc seems to be the precision for token segmentation.\n",
    "\n",
    "The key metrics for this task are the precision, recall and f-score.\n",
    "**Precision** (ents_p) is the ratio of correctly-labeled entities out of all the entities labeled. (True Positive/(True Positive+False Positive)).\n",
    "**Recall**  (ents_r) is the ratio of correctly-labeled entities out of all true entities (True Positive/(True Positive+False Negative)). The F-score is the mean of both values.  \n",
    "\n",
    "These metrics all appear averaged out through all the entity types (labels) and then detailed for each label in particular. We want these values to be as close as possible to 100. \n"
   ]
  },
  {
   "cell_type": "code",
   "execution_count": 4,
   "metadata": {},
   "outputs": [],
   "source": [
    "#Defining the evaluation function\n",
    "\n",
    "def evaluate(ner_model, examples):\n",
    "    scorer = Scorer()\n",
    "    for sents, ents in examples:\n",
    "        doc_gold = ner_model.make_doc(sents)\n",
    "        gold = GoldParse(doc_gold, entities=ents['entities'])\n",
    "        pred_value = ner_model(sents)\n",
    "        scorer.score(pred_value, gold)\n",
    "    return scorer.scores"
   ]
  },
  {
   "cell_type": "code",
   "execution_count": 5,
   "metadata": {},
   "outputs": [
    {
     "name": "stdout",
     "output_type": "stream",
     "text": [
      "{'uas': 0.0, 'las': 0.0, 'ents_p': 46.5510881593508, 'ents_r': 42.24974891195179, 'ents_f': 44.296244296244296, 'ents_per_type': {'LOC': {'p': 41.92439862542955, 'r': 47.71838331160365, 'f': 44.634146341463406}, 'ORG': {'p': 8.695652173913043, 'r': 1.5037593984962405, 'f': 2.564102564102564}, 'PER': {'p': 54.290931223371885, 'r': 75.91489361702128, 'f': 63.307310149041875}, 'MON': {'p': 0.0, 'r': 0.0, 'f': 0.0}, 'OBJ': {'p': 0.0, 'r': 0.0, 'f': 0.0}, 'MISC': {'p': 0.0, 'r': 0.0, 'f': 0.0}, 'DATE': {'p': 0.0, 'r': 0.0, 'f': 0.0}}, 'tags_acc': 0.0, 'token_acc': 100.0, 'textcat_score': 0.0, 'textcats_per_cat': {}}\n"
     ]
    }
   ],
   "source": [
    "#Applying the evaluation function to pre-trained model with all our tagged data\n",
    "\n",
    "results = evaluate(nlp,TAGGED_DATA)\n",
    "print(results)"
   ]
  },
  {
   "cell_type": "markdown",
   "metadata": {},
   "source": [
    "As we can see, the overall precision, recall and f-score are low (in the 40s), but this is largely due to the fact that we have tags for labels that don't yet exist in the model (for all these new labels, the model scores 0 on all these measures). For existing labels, we see that results vary, but can be improved. \n",
    "\n",
    "# Training the Model\n",
    "\n",
    "As said before, we will need some data for training and some for evaluation. Typically, an 80-20 split is a good choice (80% training data, 20% test data).  \n",
    "\n",
    "We first calculate just how many data points we need for training, based on the size of our tagged sample. Then we randomly split our tagged data proportionally into train_data and test_data."
   ]
  },
  {
   "cell_type": "code",
   "execution_count": 6,
   "metadata": {},
   "outputs": [
    {
     "name": "stdout",
     "output_type": "stream",
     "text": [
      "326.40000000000003\n"
     ]
    }
   ],
   "source": [
    "#Calculate 80% of tagged data for division into training and testing data\n",
    "\n",
    "print(len(TAGGED_DATA)*0.8)"
   ]
  },
  {
   "cell_type": "code",
   "execution_count": 4,
   "metadata": {},
   "outputs": [],
   "source": [
    "# Batching the Tagged Data into training and evaluation data (80-20)\n",
    "\n",
    "random.shuffle(TAGGED_DATA)\n",
    "train_data = TAGGED_DATA[:326]\n",
    "test_data = TAGGED_DATA[326:]"
   ]
  },
  {
   "cell_type": "markdown",
   "metadata": {},
   "source": [
    "Next comes the training process. Spacy provides a way to train the model via the [command line](https://spacy.io/usage/training#spacy-train-cli), but we will build the training loop manually. "
   ]
  },
  {
   "cell_type": "code",
   "execution_count": 5,
   "metadata": {},
   "outputs": [
    {
     "name": "stdout",
     "output_type": "stream",
     "text": [
      "Losses {'ner': 29215.165053071694}\n",
      "Losses {'ner': 27128.040782005246}\n",
      "Losses {'ner': 26671.43876299599}\n",
      "Losses {'ner': 26628.9134316227}\n",
      "Losses {'ner': 26373.89165395056}\n",
      "Losses {'ner': 26706.879815614782}\n",
      "Losses {'ner': 26406.34644309478}\n",
      "Losses {'ner': 26108.571956321597}\n",
      "Losses {'ner': 26526.65727315098}\n",
      "Losses {'ner': 26412.8836187087}\n"
     ]
    }
   ],
   "source": [
    "#Create object for retrieving the NER pipeline component\n",
    "ner=nlp.get_pipe(\"ner\")\n",
    "\n",
    "#Generate new labels for the NER component (if you wish to create new labels)\n",
    "ner.add_label(\"OBJ\")\n",
    "ner.add_label(\"MON\")\n",
    "ner.add_label(\"DATE\")\n",
    "\n",
    "#This piece of code creates a loop in which we train the model, but only for the NER component (disabling the tagger and the parser, which we are not using here).\n",
    "with nlp.disable_pipes('tagger','parser'):\n",
    "#Here we resume training, alternatively you could begin_training if you are starting on a new model.\n",
    "    optimizer= nlp.resume_training()\n",
    "#Sizes for the minibatching\n",
    "    sizes = compounding(1.0, 4.0, 1.001)\n",
    "#This loops the training mechanism 10 times, randomly shuffling the training data and creating mini-batches from which the algorithm learns to label. Each time a batch is processed, the model is updated.\n",
    "    for itn in range(10):\n",
    "            random.shuffle(train_data)\n",
    "            batches = minibatch(train_data, size=sizes)\n",
    "            losses = {}\n",
    "            for batch in batches:\n",
    "                texts, annotations = zip(*batch)\n",
    "                nlp.update(texts, annotations, sgd=optimizer, drop=0.35, losses=losses)\n",
    "            print(\"Losses\", losses)"
   ]
  },
  {
   "cell_type": "markdown",
   "metadata": {},
   "source": [
    "# Saving the Updated Model\n",
    "\n",
    "Training the model is that simple. If you want to use the updated model in the future, you will want to save it to a directory you have created beforehand. "
   ]
  },
  {
   "cell_type": "code",
   "execution_count": 6,
   "metadata": {},
   "outputs": [],
   "source": [
    "#First, let's change the model's metadata to reflect that it is a new model that has been trained. It will allow us to recall it independently from the old one in future uses.\n",
    "nlp.meta['name']='core_news_ml_EMS'"
   ]
  },
  {
   "cell_type": "code",
   "execution_count": 11,
   "metadata": {},
   "outputs": [],
   "source": [
    "#Save trained model to disk for later reuse\n",
    "\n",
    "nlp.to_disk(\"Trained_ModelEMS\")"
   ]
  },
  {
   "cell_type": "markdown",
   "metadata": {},
   "source": [
    "Spacy recommends that you package the model, making it easier to employ after. This must be done on the command line. First, call the directory your model is in. Then, following the lines of code below:\n",
    "\n",
    "Create the directory in which your packaged model will go.\n",
    "\n",
    "Spacy's package command creates a model package directory.\n",
    "\n",
    "Call the directory in which the .tar file will be stored.\n",
    "\n",
    "Build the package, creating a .tar.gz file in the directory /dist.\n",
    "\n",
    "Install the model by pointing pip to the file path.\n",
    "\n",
    "```mkdir PackagedModel\n",
    "python -m spacy package Trained_ModelEMS PackagedModel\n",
    "cd PackagedModel/es_core_news_ml_EMS-2.2.0/\n",
    "python setup.py sdist\n",
    "cd dist/\n",
    "pip install es_core_news_ml_EMS-2.2.0.tar.gz\n",
    "```\n",
    "\n",
    "Next time you use spacy, you will be able to call the updated model by using the **spacy.load()** command with the model name.\n",
    "\n",
    "\n",
    "# Evaluating the Trained Model\n",
    "\n",
    "Now that the model has been updated, you can check how much it has improved. Visually, using our previous example, we can see that the tagging has improved dramatically on preexisting and new labels:"
   ]
  },
  {
   "cell_type": "code",
   "execution_count": 16,
   "metadata": {},
   "outputs": [
    {
     "data": {
      "text/html": [
       "<div class=\"entities\" style=\"line-height: 2.5; direction: ltr\">\n",
       "<mark class=\"entity\" style=\"background: #ddd; padding: 0.45em 0.6em; margin: 0 0.25em; line-height: 1; border-radius: 0.35em;\">\n",
       "    antonio de alfian\n",
       "    <span style=\"font-size: 0.8em; font-weight: bold; line-height: 1; border-radius: 0.35em; text-transform: uppercase; vertical-align: middle; margin-left: 0.5rem\">PER</span>\n",
       "</mark>\n",
       " pintor vezino de esta cibdad de \n",
       "<mark class=\"entity\" style=\"background: #ff9561; padding: 0.45em 0.6em; margin: 0 0.25em; line-height: 1; border-radius: 0.35em;\">\n",
       "    seuilla\n",
       "    <span style=\"font-size: 0.8em; font-weight: bold; line-height: 1; border-radius: 0.35em; text-transform: uppercase; vertical-align: middle; margin-left: 0.5rem\">LOC</span>\n",
       "</mark>\n",
       " en la \n",
       "<mark class=\"entity\" style=\"background: #ff9561; padding: 0.45em 0.6em; margin: 0 0.25em; line-height: 1; border-radius: 0.35em;\">\n",
       "    collacion de la madalena\n",
       "    <span style=\"font-size: 0.8em; font-weight: bold; line-height: 1; border-radius: 0.35em; text-transform: uppercase; vertical-align: middle; margin-left: 0.5rem\">LOC</span>\n",
       "</mark>\n",
       " otorgo e conozco que doy todo mi poder a \n",
       "<mark class=\"entity\" style=\"background: #ddd; padding: 0.45em 0.6em; margin: 0 0.25em; line-height: 1; border-radius: 0.35em;\">\n",
       "    francisco de arfian\n",
       "    <span style=\"font-size: 0.8em; font-weight: bold; line-height: 1; border-radius: 0.35em; text-transform: uppercase; vertical-align: middle; margin-left: 0.5rem\">PER</span>\n",
       "</mark>\n",
       " mi hijo especialmente para que por mi pueda pedir de \n",
       "<mark class=\"entity\" style=\"background: #ddd; padding: 0.45em 0.6em; margin: 0 0.25em; line-height: 1; border-radius: 0.35em;\">\n",
       "    alonso de la milla\n",
       "    <span style=\"font-size: 0.8em; font-weight: bold; line-height: 1; border-radius: 0.35em; text-transform: uppercase; vertical-align: middle; margin-left: 0.5rem\">PER</span>\n",
       "</mark>\n",
       " clerigo mayordomo de la \n",
       "<mark class=\"entity\" style=\"background: #7aecec; padding: 0.45em 0.6em; margin: 0 0.25em; line-height: 1; border-radius: 0.35em;\">\n",
       "    fabrica de la iglesia de santa maria de la villa de carmona sesenta e cinco ducados que me a de pagar por virtud de un mandamiento del señor provisor\n",
       "    <span style=\"font-size: 0.8em; font-weight: bold; line-height: 1; border-radius: 0.35em; text-transform: uppercase; vertical-align: middle; margin-left: 0.5rem\">ORG</span>\n",
       "</mark>\n",
       "</div>"
      ],
      "text/plain": [
       "<IPython.core.display.HTML object>"
      ]
     },
     "metadata": {},
     "output_type": "display_data"
    }
   ],
   "source": [
    "doc2=nlp(\"antonio de alfian pintor vezino de esta cibdad de seuilla en la collacion de la madalena otorgo e conozco que doy todo mi poder a francisco de arfian mi hijo especialmente para que por mi pueda pedir de alonso de la milla clerigo mayordomo de la fabrica de la iglesia de santa maria de la villa de carmona sesenta e cinco ducados que me a de pagar por virtud de un mandamiento del señor provisor\")\n",
    "\n",
    "#View out-of-the-box NLP results with displacy\n",
    "\n",
    "displacy.render(doc2, style=\"ent\", jupyter=True)"
   ]
  },
  {
   "cell_type": "markdown",
   "metadata": {},
   "source": [
    "We can more formally measure this by using the test_data with the evaluate function."
   ]
  },
  {
   "cell_type": "code",
   "execution_count": 14,
   "metadata": {},
   "outputs": [
    {
     "name": "stdout",
     "output_type": "stream",
     "text": [
      "{'uas': 0.0, 'las': 0.0, 'ents_p': 83.4368530020704, 'ents_r': 65.84967320261438, 'ents_f': 73.60730593607305, 'ents_per_type': {'MON': {'p': 73.33333333333333, 'r': 72.1311475409836, 'f': 72.72727272727273}, 'PER': {'p': 87.76371308016878, 'r': 91.62995594713657, 'f': 89.65517241379311}, 'OBJ': {'p': 100.0, 'r': 2.197802197802198, 'f': 4.301075268817205}, 'LOC': {'p': 85.53459119496856, 'r': 80.95238095238095, 'f': 83.18042813455658}, 'ORG': {'p': 50.0, 'r': 20.0, 'f': 28.571428571428577}, 'DATE': {'p': 66.66666666666666, 'r': 20.0, 'f': 30.769230769230766}}, 'tags_acc': 0.0, 'token_acc': 100.0, 'textcat_score': 0.0, 'textcats_per_cat': {}}\n"
     ]
    }
   ],
   "source": [
    "#Evaluate trained model on test/evaluation data\n",
    "\n",
    "results2 = evaluate(nlp,test_data)\n",
    "print(results2)"
   ]
  },
  {
   "cell_type": "markdown",
   "metadata": {},
   "source": [
    "As can be seen, the results have improved greatly for preexisting labels (PER, ORG, LOC) and have improved for the new labels (DATE, MON, OBJ). \n",
    "\n",
    "The extent to which you can improve your model will depend on several parameters, including the quantity and quality of training data. It is worth noting that the measurements above will to some extent depend on the ways the data was shuffled; so one iteration may perform better or worse depending on which texts were taken as training data. We have created other notebooks in which you can run several trials and develop an idea of the average values of these indicators and their variance. \n",
    "\n",
    "It is also worth noting that texts can have different characteristics that will affect the performance of the model. As previously stated, models are often trained on modern texts of very defined genres, like news or wikipedia articles. Spelling variation, differences in tokenization or differences in sentence fragmentation could affect model performance. This is especially true of historical documents and those taken from social media. Normalizing your own documents could improve performance. We have another document that helps you include a normalization dictionary in your pipeline before training, and similar adaptations could be made to the tokenizer and sentence fragmenter.\n",
    "\n",
    "Because NER will not provide perfect results, it could be useful to be able to read through all documents with their labels. You can do this with the script below:"
   ]
  },
  {
   "cell_type": "code",
   "execution_count": 1,
   "metadata": {},
   "outputs": [],
   "source": [
    "#Visualize predicted entities in all documents. \n",
    "\n",
    "#df = pd.read_csv('~/Documents/Research/NLP/SevillianPaintersNLP/DocumentsTest.txt', delimiter =\",\")\n",
    "#docs = list(nlp1.pipe(df['document']))\n",
    "#for doc in docs:\n",
    "#    displacy.render(doc, style=\"ent\", jupyter=True)\n",
    "#    print(\"---\")"
   ]
  },
  {
   "cell_type": "code",
   "execution_count": null,
   "metadata": {},
   "outputs": [],
   "source": []
  }
 ],
 "metadata": {
  "kernelspec": {
   "display_name": "Python 3",
   "language": "python",
   "name": "python3"
  },
  "language_info": {
   "codemirror_mode": {
    "name": "ipython",
    "version": 3
   },
   "file_extension": ".py",
   "mimetype": "text/x-python",
   "name": "python",
   "nbconvert_exporter": "python",
   "pygments_lexer": "ipython3",
   "version": "3.7.3"
  }
 },
 "nbformat": 4,
 "nbformat_minor": 2
}
