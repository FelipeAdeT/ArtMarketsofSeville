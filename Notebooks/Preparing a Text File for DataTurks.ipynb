{
 "cells": [
  {
   "cell_type": "markdown",
   "metadata": {},
   "source": [
    "## Preparing a Text File with Tagged Entities for DataTurks.com - Random Selection\n",
    "\n",
    "In this notebook, we run Spacy on our texts to output an initial list of entities that can later be revised on Dataturks. We print this in the necessary format for upload on said website, which can be copied into a text file. \n"
   ]
  },
  {
   "cell_type": "code",
   "execution_count": 45,
   "metadata": {},
   "outputs": [],
   "source": [
    "# Import modules used in this notebook\n",
    "from spacy.lang.es import Spanish \n",
    "from spacy import displacy\n",
    "import spacy\n",
    "from spacy.tokens import Doc\n",
    "\n",
    "from collections import defaultdict, Counter\n",
    "from spacy.attrs import ORTH\n",
    "import pandas as pd\n",
    "import json\n",
    "import numpy as np\n",
    "import random"
   ]
  },
  {
   "cell_type": "code",
   "execution_count": 4,
   "metadata": {},
   "outputs": [],
   "source": [
    "# Load the medium Spanish model\n",
    "nlp = spacy.load('es_core_news_ml_EMS')"
   ]
  },
  {
   "cell_type": "code",
   "execution_count": 109,
   "metadata": {},
   "outputs": [
    {
     "name": "stdout",
     "output_type": "stream",
     "text": [
      "Input filename:20200211AllDocsDB.csv\n",
      "        id                                           document\n",
      "0        1  ...martin de gaynça maestro mayor de las obras...\n",
      "1        2  ...martin de gaynça... soy convenido... con lo...\n",
      "2        3  ...martin de gaynça... soy convenido... con el...\n",
      "3        4  Francisco Buelta, cantero, vecino de Sevilla, ...\n",
      "4        5  Martin de Gainza y Juan de Escalona, vecinos d...\n",
      "5        6  Martin de Gainza, se obligo a pagar a Juan Per...\n",
      "6        7  Rodrigo Alonso, calero, se obligo a pagar a Ma...\n",
      "7        8  Fernan Rodriguez, cantero, vecino de Jerez de ...\n",
      "8        9  Ochoa de Isasi, maestro marmolero, y Martin de...\n",
      "9       10  Martin de Gainza y Juan de Gainza, cantero, ot...\n",
      "10      11  Martin de Gainza, otorgo poder a Juanes de Veo...\n",
      "11      12              Martin de Gainza. Escritura de deudo.\n",
      "12      13  Martin de Gainza, obrero mayor de la canteria ...\n",
      "13      14  Martin de Gainza, vizcaino, se constituyo en f...\n",
      "14      15  Pedro Montañes, cantero, y Martin de Gainza, s...\n",
      "15      16  Pedro Montañes, cantero, y Martin de Gainza, c...\n",
      "16      17  Martin de Gainza, otorgo poder para cobrar lo ...\n",
      "17      18  Isabel Nuñez, viuda de Martin de Gainza y su h...\n",
      "18      19  Miguel de Gainza, aparejador de las obras de c...\n",
      "19      20  Julian Rodriguez y Alonso Rodriguez, labradore...\n",
      "20      21  Julian Rodriguez vendio a Miguel de Gainza, 75...\n",
      "21      22  Pedro Montañes, cantero, estante en Sevilla, s...\n",
      "22      23  Miguel de Gainza, Juan de Almao, Hernando Salg...\n",
      "23      24  Miguel de Gainza, aparejador, Juan Cavello, Ba...\n",
      "24      25  Juan de Gainza, Rijo de Miguel de Gainza, difu...\n",
      "25      26  ...diego de riaño maestro mayor de la obra de ...\n",
      "26      27  D. de R., estante en Sevilla, otorgo poder a R...\n",
      "27      28  Juan de Santander, como principal, Juan de Mat...\n",
      "28      29  D. de R., cantero, estante en Sevilla, otorgo ...\n",
      "29      30  Se obligo a sacar en paz y salvo al Cabildo y ...\n",
      "...    ...                                                ...\n",
      "8577  8578  Thorobio Martínez de Guerte, maestro batihoja ...\n",
      "8578  8579  Thorobio Martínez de Guerte, maestro batihoja ...\n",
      "8579  8580  Thorobio Martínez de Guerte, San Salvador, inv...\n",
      "8580  8581     Thorobio Martínez de Guerte almoneda de bienes\n",
      "8581  8582  23 agosto 1690  Andrés Pérez Ramírez, San Salv...\n",
      "8582  8583  - viuda de -- maestro batihoja, deudas\\n    JA...\n",
      "8583  8584  Francisco Corrales padre de FRANCISCO LAUREANO...\n",
      "8584  8585  FRANCISCO LAUREANO DE CORRALES de oficio de pi...\n",
      "8585  8586  JOSÉ IGNACIO DE LA PARRA, pintor, arrendamient...\n",
      "8586  8587  Francisco de la Vega, collación de San Lorenzo...\n",
      "8587  8588  IGNACIO DE LA VEGA, dorador y estofador, arren...\n",
      "8588  8589  Testamento. MATEO FRANCISCO, San Pedro, estand...\n",
      "8589  8590  Carta de pago de PEDRO DE BORJA MACHADO en nom...\n",
      "8590  8591  Carta de pago de PEDRO DE BORJA MACHADO en nom...\n",
      "8591  8592  Carta de pago de PEDRO DE BORJA MACHADO en nom...\n",
      "8592  8593  Pago de 4 reales de plata de MATIAS DE ARTEAGA...\n",
      "8593  8594  Pago de 4 reales de plata de MATIAS DE ARTEAGA...\n",
      "8594  8595  Pago de 4 reales de plata de MATIAS DE ARTEAGA...\n",
      "8595  8596  Pago de 4 reales de plata de MATIAS DE ARTEAGA...\n",
      "8596  8597  Pago de 4 reales de plata de MATIAS DE ARTEAGA...\n",
      "8597  8598  Pago de 4 reales de plata de MATIAS DE ARTEAGA...\n",
      "8598  8599  Pago de 4 reales de plata de MATIAS DE ARTEAGA...\n",
      "8599  8600  Pago de 4 reales de plata de MATIAS DE ARTEAGA...\n",
      "8600  8601  Pago de 4 reales de plata de MATIAS DE ARTEAGA...\n",
      "8601  8602                                                NaN\n",
      "8602  8603  16 junio 1652, se entierro en San Pablo un niñ...\n",
      "8603  8604                          Pago de 4 reales de plata\n",
      "8604  8605                          Pago de 4 reales de plata\n",
      "8605  8606                          Pago de 4 reales de plata\n",
      "8606  8607                          Pago de 4 reales de plata\n",
      "\n",
      "[8607 rows x 2 columns]\n"
     ]
    }
   ],
   "source": [
    "# Read the file we are tagging\n",
    "filename=input(\"Input filename:\")\n",
    "df = pd.read_csv(filename, delimiter =\",\")\n",
    "print(df)\n",
    "  "
   ]
  },
  {
   "cell_type": "code",
   "execution_count": 110,
   "metadata": {},
   "outputs": [],
   "source": [
    "#Four rows are blank because they represent an author's comments without alluding to a particular document. We must conver the empty strings to NA and drop these for the text analysis to work.\n",
    "df['document'].replace('', np.nan, inplace=True)\n",
    "df.dropna(subset=['document'], inplace=True)"
   ]
  },
  {
   "cell_type": "markdown",
   "metadata": {},
   "source": [
    "We will take a random subsample of our data to use as training and testing data"
   ]
  },
  {
   "cell_type": "code",
   "execution_count": 112,
   "metadata": {},
   "outputs": [],
   "source": [
    "#Take a random sample of size k of the file\n",
    "\n",
    "k=500\n",
    "random_sample = df.sample(k)"
   ]
  },
  {
   "cell_type": "code",
   "execution_count": 113,
   "metadata": {},
   "outputs": [],
   "source": [
    "#Run the model on the texts\n",
    "docs=list(nlp.pipe(random_sample['document']))"
   ]
  },
  {
   "cell_type": "markdown",
   "metadata": {},
   "source": [
    "The Dataturks upload format is: \n",
    "\n",
    "    {\"content\":\"cd players and tuners\",\"annotation\":[{\"label\":[\"Category\"],\"points\":[{\"start\":0,\"end\":1,\"text\":\"cd\"}]},{\"label\":[\"Category\"],\"points\":[{\"start\":3,\"end\":9,\"text\":\"players\"}]},{\"label\":[\"Category\"],\"points\":[{\"start\":15,\"end\":20,\"text\":\"tuners\"}]}],\"extras\":{\"Name\":\"columnName\",\"Class\":\"ColumnValue\"}}\n",
    "\n",
    "Which is a dictionary with \"content\" and \"annotation\" key/value pairs\n",
    "inside the annotation is a list of entities\n",
    "each entity is a dictionary with \"label\", \"points\" key/value pairs\n",
    "label includes a list with \"value\"\n",
    "points includes a list with a dictionary with \"start\", \"end\", and \"text\" key/value pairs.\n",
    "\n",
    "Each text is in a new line.\n",
    "\n",
    "We need to output a JSON file of our documents with entity tags in this structure."
   ]
  },
  {
   "cell_type": "markdown",
   "metadata": {},
   "source": [
    "First, we created a document with all our texts as tagged by the model, in the structure needed:"
   ]
  },
  {
   "cell_type": "code",
   "execution_count": 114,
   "metadata": {},
   "outputs": [
    {
     "name": "stdout",
     "output_type": "stream",
     "text": [
      "Input filename for output:20200211TrainingSample_EMS.json\n"
     ]
    }
   ],
   "source": [
    "filename=input(\"Input filename for output:\")\n",
    "with open(filename, 'w', encoding='UTF-8') as file:\n",
    "    for doc in docs:\n",
    "        docdict={}\n",
    "        docdict[\"content\"]= doc.text\n",
    "        annotation=[]\n",
    "        for ent in doc.ents: \n",
    "            entity={}\n",
    "            label=[]\n",
    "            label.append(ent.label_) #Adds label to created list\n",
    "            points=[]\n",
    "            pointsd={}\n",
    "            entity[\"label\"]=label #Adds list as value to key \"label\" in entity dict\n",
    "            pointsd[\"start\"]=doc[ent.start].idx #Accesses start char of first token of entity\n",
    "            pointsd[\"end\"]=doc[ent.start].idx+len(ent.text) #Finds end char by adding entity length to start char\n",
    "            pointsd[\"text\"]=ent.text #Text string attribute of entity\n",
    "            points.append(pointsd)\n",
    "            entity[\"points\"]=points #Adds points attribute as value to key \"points\" in entity dict\n",
    "            annotation.append(entity)\n",
    "        docdict[\"annotation\"]=annotation\n",
    "        json.dump(docdict, file,ensure_ascii=False)\n",
    "        file.write(\"\\n\")"
   ]
  },
  {
   "cell_type": "markdown",
   "metadata": {},
   "source": [
    "This file can now be uploaded into Dataturks, and its tags corrected. Once the texts are perfectly tagged, they can be used for retraining the model and testing our results. Other notebooks explain how to format Dataturks output into usable training data for Spacy,and then how to train Spacy's model. "
   ]
  }
 ],
 "metadata": {
  "kernelspec": {
   "display_name": "Python 3",
   "language": "python",
   "name": "python3"
  },
  "language_info": {
   "codemirror_mode": {
    "name": "ipython",
    "version": 3
   },
   "file_extension": ".py",
   "mimetype": "text/x-python",
   "name": "python",
   "nbconvert_exporter": "python",
   "pygments_lexer": "ipython3",
   "version": "3.7.3"
  }
 },
 "nbformat": 4,
 "nbformat_minor": 4
}
