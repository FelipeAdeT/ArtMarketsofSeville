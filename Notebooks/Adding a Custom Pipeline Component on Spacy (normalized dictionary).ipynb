{
 "cells": [
  {
   "cell_type": "markdown",
   "metadata": {},
   "source": [
    "# Adding a Custom Pipeline Component on Spacy: Normalizing Token Spelling \n",
    "\n",
    "In handwritten documents, and particularly those in early modern Spanish, there is a wide range of spelling variation that will affect the representation of each token, and thus the performance of our model. Here, we provide a way to incorporate a dictionary that standardizes spelling through tokens' NORM attribute (as recommended by [Spacy creators](https://stackoverflow.com/questions/49493232/how-to-add-custom-slangs-into-spacys-norm-exceptions-py-module)).\n",
    "\n",
    "In this document, we modify Spacy's pipeline, creating a custom component that normalizes word spelling. This is an example intended to show ways to improve the pipeline for historical texts.\n"
   ]
  },
  {
   "cell_type": "code",
   "execution_count": 3,
   "metadata": {},
   "outputs": [],
   "source": [
    "#Import modules used in this notebook\n",
    "\n",
    "import spacy\n",
    "from spacy.lang.es import Spanish \n",
    "from spacy import displacy\n",
    "\n",
    "import json"
   ]
  },
  {
   "cell_type": "markdown",
   "metadata": {},
   "source": [
    "## Understanding the Pipeline \n",
    "\n",
    "<div>\n",
    "<img src=https://spacy.io/pipeline-7a14d4edd18f3edfee8f34393bff2992.svg  width=\"700\"/>\n",
    "</div>\n",
    "When analyzing a text, Spacy takes a string and passes it through a chain of processes. First, it tokenizes the text, separating it into the individual words contained in the document. Then, it applies other processes (by default, the tagger, the parser, and the named entity recognizer) to your document. These components are independent and can be disabled or dropped, depending on your NLP needs. New, custom components can be added (and the tokenizer can also be modified).\n",
    "\n",
    "We are interested in improving the performance of the NER component, which translates each token into a numerical vector calculated from each token's prefix, suffix, norm and shape attributes. Early Modern languages display a lack of standardization of spellings. Thus, several strings might in reality represent the same word (in our documents, for example, Sevilla might be spelled Seuilla, seuilla, Sebilla, sebilla, Sevilla or sevilla). Standardizing spelling would help the model recognize the tokens as equivalent, improving predictions. \n",
    "\n",
    "To improve performance in this regard, we add a new component to the pipeline, after tokenization but before NER is applied.\n",
    "\n",
    "In this notebook, we add a custom component that takes historical texts with multiple variations in spelling, and normalizes spelling of the norm attribute to bring it closer to modern usage. Because the Spacy model used was trained on texts written in modern Spanish, this should improve performance. \n"
   ]
  },
  {
   "cell_type": "code",
   "execution_count": 21,
   "metadata": {},
   "outputs": [],
   "source": [
    "#First, load the model\n",
    "nlp= spacy.load('es_core_news_md')"
   ]
  },
  {
   "cell_type": "markdown",
   "metadata": {},
   "source": [
    "## Modifying the Pipeline\n",
    "\n",
    "The first step was to create a dictionary of early modern Spanish words. We did this by tokenizing a subset of our documents and making a list of unique tokens. In openrefine, we then duplicated the tokens and edited spellings to coincide with their modern form. We then structured the document to be in the shape of a dictionary ('key':'value' pairs), with the original token as a key and the new spelling as a value. (Full process available [here](https://github.com/FelipeAdeT/ArtMarketsofSeville/blob/master/Notebooks/Creating%20a%20Spelling%20Normalization%20Dictionary.ipynb)).\n",
    "\n",
    "These are available in a file saved separately, which we call here."
   ]
  },
  {
   "cell_type": "code",
   "execution_count": 22,
   "metadata": {},
   "outputs": [],
   "source": [
    "# read our normalization dictionary from JSON file\n",
    "with open('normalizeddict.json', 'r', encoding='utf-8') as fp2:\n",
    "    normalizeddict = json.load(fp2)"
   ]
  },
  {
   "cell_type": "markdown",
   "metadata": {},
   "source": [
    "Next, we define the function that updates the .norm attribute for each token:"
   ]
  },
  {
   "cell_type": "code",
   "execution_count": 23,
   "metadata": {},
   "outputs": [],
   "source": [
    "#Define and add pipeline component that updates .norm attribute\n",
    "\n",
    "def add_custom_norms(doc):\n",
    "    for token in doc:\n",
    "        if token.text in normalizeddict:\n",
    "            token.norm_ = normalizeddict[token.text]\n",
    "    return doc"
   ]
  },
  {
   "cell_type": "markdown",
   "metadata": {},
   "source": [
    "And add the component to the pipeline, after tokenizing but before any other process:"
   ]
  },
  {
   "cell_type": "code",
   "execution_count": 24,
   "metadata": {},
   "outputs": [],
   "source": [
    "#Add component to the pipeline\n",
    "\n",
    "nlp.add_pipe(add_custom_norms, first=True)"
   ]
  },
  {
   "cell_type": "markdown",
   "metadata": {},
   "source": [
    "That is it! This is one of many modifications that can be done to the pipeline. Whenever you call the pipeline within the session, you are calling the new modified version. If you want to keep working with the modified pipeline in other sessions, you will want to save the updated model (instructions [here](https://github.com/FelipeAdeT/ArtMarketsofSeville/blob/master/Notebooks/Training%20Spacy's%20NER.ipynb), under \"Saving the Updated Model\").\n",
    "\n",
    "At some point, you also might want to remove, rename replace or disable the component:"
   ]
  },
  {
   "cell_type": "code",
   "execution_count": 20,
   "metadata": {},
   "outputs": [],
   "source": [
    "#To remove or replace the component:\n",
    "#nlp.remove_pipe(\"add_custom_norms\")\n",
    "#nlp.rename_pipe(\"add_custom_norms\", \"spelling_normalization\")\n",
    "#nlp.replace_pipe(\"add_custom_norms\", new_component) #With a new component defined as above\n",
    "\n",
    "#To disable the pipeline while you are processing a batch of documents:\n",
    "#with nlp.disable_pipes(\"add_custom_norms\"): #You can include any list of components, separated by commas\n",
    "#    doc = nlp(\"I won't be normalized\")"
   ]
  },
  {
   "cell_type": "markdown",
   "metadata": {},
   "source": [
    "## Viewing pipeline component results"
   ]
  },
  {
   "cell_type": "markdown",
   "metadata": {},
   "source": [
    "The next steps are intented to help visualize the changes made above. We compare one document with its original spelling and its normalized spelling."
   ]
  },
  {
   "cell_type": "code",
   "execution_count": 25,
   "metadata": {},
   "outputs": [],
   "source": [
    "#Processing a text with the unmodified and the modified pipelines.\n",
    "\n",
    "doc=nlp(\"juan baptista bazquez escultor vzo en san pedro como principal e diego de çamora pintor de ymagineria como su fiador otorgamos que somos concertados con juan rruiz de porras vzo de la ciudad de Ronda en nonbre de los texedores de paños e lienços de Ronda en tal manera que nos obligamos de hazer de talla e pintura un san marcos que tenga sin la peana bara e media de alto e la peana de medio palmo con sus molduras y al pie del santo sobre la peana a de yr la ynsinia que es un toro del tamaño que le conuenga. el qual santo a de yr vestido como de apostol y a de ser de madera de pino de sigura a de yr hueco para que se pueda lleuar en prosesion y todo el y la peana a de yr dorado y estofado todos los uestidos conforme e de la misma manera questa eftofado una ymagen de señor san josehpe questa en la casa profesa de la conpañia de jesus en la capilla mayor en un altar y nos obligamos a hazer una caxa de madera de pino en que vaya metido para lleuar de aqui a Ronda y mas nos obligamos a hazer unas pariguelas para sacallo en prosesion las tablas de pino y los braços de borne jaspeadas de verde a el olio y el santo a de llevar en la mano ysquierda un libro dorado y en la mano derecha una pluma y en la cabeça una diadema dorada todo ello de buena obra y nos obligamos de lo dar acabado de aqui a el dia de san juan bautista del mes de junio deste año por precio todo ello de quarenta ducados y rrecibo para en quenta 17 ducados.\")"
   ]
  },
  {
   "cell_type": "code",
   "execution_count": 26,
   "metadata": {},
   "outputs": [
    {
     "name": "stdout",
     "output_type": "stream",
     "text": [
      "juan baptista bazquez escultor vzo en san pedro como principal e diego de çamora pintor de ymagineria como su fiador otorgamos que somos concertados con juan rruiz de porras vzo de la ciudad de Ronda en nonbre de los texedores de paños e lienços de Ronda en tal manera que nos obligamos de hazer de talla e pintura un san marcos que tenga sin la peana bara e media de alto e la peana de medio palmo con sus molduras y al pie del santo sobre la peana a de yr la ynsinia que es un toro del tamaño que le conuenga . el qual santo a de yr vestido como de apostol y a de ser de madera de pino de sigura a de yr hueco para que se pueda lleuar en prosesion y todo el y la peana a de yr dorado y estofado todos los uestidos conforme e de la misma manera questa eftofado una ymagen de señor san josehpe questa en la casa profesa de la conpañia de jesus en la capilla mayor en un altar y nos obligamos a hazer una caxa de madera de pino en que vaya metido para lleuar de aqui a Ronda y mas nos obligamos a hazer unas pariguelas para sacallo en prosesion las tablas de pino y los braços de borne jaspeadas de verde a el olio y el santo a de llevar en la mano ysquierda un libro dorado y en la mano derecha una pluma y en la cabeça una diadema dorada todo ello de buena obra y nos obligamos de lo dar acabado de aqui a el dia de san juan bautista del mes de junio deste año por precio todo ello de quarenta ducados y rrecibo para en quenta 17 ducados . "
     ]
    }
   ],
   "source": [
    "#Displaying unmodified text\n",
    "for token in doc:\n",
    "    print(token.text,end=' ')"
   ]
  },
  {
   "cell_type": "code",
   "execution_count": 27,
   "metadata": {},
   "outputs": [
    {
     "name": "stdout",
     "output_type": "stream",
     "text": [
      "juan bautista bazquez escultor vecino en san pedro como principal y diego de zamora pintor de imagineria como su fiador otorgamos que somos concertados con juan rruiz de porras vecino de la ciudad de ronda en nombre de los texedores de paños y lienzos de ronda en tal manera que nos obligamos de hacer de talla y pintura un san marcos que tenga sin la peana vara y media de alto y la peana de medio palmo con sus molduras y al pie del santo sobre la peana a de ir la insignia que es un toro del tamaño que le convenga . el cual santo a de ir vestido como de apostol y a de ser de madera de pino de sigura a de ir hueco para que se pueda llevar en prosesion y todo el y la peana a de ir dorado y estofado todos los uestidos conforme y de la misma manera que esta eftofado una imagen de señor san josehpe que esta en la casa profesa de la compañia de jesus en la capilla mayor en un altar y nos obligamos a hacer una caja de madera de pino en que vaya metido para llevar de aqui a ronda y mas nos obligamos a hacer unas pariguelas para sacallo en prosesion las tablas de pino y los brazos de borne jaspeadas de verde a el olio y el santo a de llevar en la mano izquierda un libro dorado y en la mano derecha una pluma y en la cabeza una diadema dorada todo ello de buena obra y nos obligamos de lo dar acabado de aqui a el dia de san juan bautista del mes de junio de este año por precio todo ello de cuarenta ducados y rrecibo para en cuenta 17 ducados . "
     ]
    }
   ],
   "source": [
    "#Displaying normalized text\n",
    "for token in doc:\n",
    "    print(token.norm_, end=' ')"
   ]
  },
  {
   "cell_type": "markdown",
   "metadata": {},
   "source": [
    "As can be seen, the token.norm_ attribute has been updated for each token. \n",
    "\n",
    "This combined with training should result in improved performance."
   ]
  }
 ],
 "metadata": {
  "kernelspec": {
   "display_name": "Python 3",
   "language": "python",
   "name": "python3"
  },
  "language_info": {
   "codemirror_mode": {
    "name": "ipython",
    "version": 3
   },
   "file_extension": ".py",
   "mimetype": "text/x-python",
   "name": "python",
   "nbconvert_exporter": "python",
   "pygments_lexer": "ipython3",
   "version": "3.7.3"
  }
 },
 "nbformat": 4,
 "nbformat_minor": 2
}
